{
 "cells": [
  {
   "cell_type": "code",
   "execution_count": null,
   "id": "3e2be464",
   "metadata": {},
   "outputs": [],
   "source": [
    "from langchain_nvidia_ai_endpoints import ChatNVIDIA\n",
    "from langchain_core.output_parsers import StrOutputParser\n",
    "from langchain_core.prompts import ChatPromptTemplate\n",
    "\n",
    "# Load the model\n",
    "llm = ChatNVIDIA(model=\"meta/llama-3.1-405b-instruct\")\n",
    "parser = StrOutputParser()\n",
    "\n",
    "# Initialize history list\n",
    "history = []\n",
    "\n",
    "# Prompt to generate the first follow-up question\n",
    "prompt1 = ChatPromptTemplate.from_messages([\n",
    "    (\"system\", \"You are a career recommendation bot. You ask questions to understand user interests.\"),\n",
    "    (\"user\", \"The user said: {input}. Ask a good follow-up question.\")\n",
    "])\n",
    "\n",
    "chain1 = prompt1 | llm | parser\n",
    "\n",
    "# Prompt to generate the second follow-up question based on the previous user answer\n",
    "prompt2 = ChatPromptTemplate.from_messages([\n",
    "    (\"system\", \"You're a career bot.\"),\n",
    "    (\"user\", \"The user responded: {pre}. Ask the next follow-up question to understand their interests further.\")\n",
    "])\n",
    "\n",
    "chain2 = prompt2 | llm | parser\n",
    "\n",
    "# Start the interaction\n",
    "if not history:\n",
    "    ques1 = \"What do you do in your free time?\"\n",
    "    print(\"\\n[Bot]:\", ques1)\n",
    "    ans1 = input(\"[You]: \")\n",
    "    history.append((\"Q1\", ans1))\n",
    "\n",
    "    # Generate follow-up question (Q2)\n",
    "    ques2 = chain1.invoke({\"input\": ans1})\n",
    "    print(\"\\n[Bot]:\", ques2)\n",
    "    ans2 = input(\"[You]: \")\n",
    "    history.append((\"Q2\", ans2))\n",
    "\n",
    "    # Generate final follow-up question (Q3)\n",
    "    ques3 = chain2.invoke({\"pre\": ans2})\n",
    "    print(\"\\n[Bot]:\", ques3)\n",
    "    ans3 = input(\"[You]: \")\n",
    "    history.append((\"Q3\", ans3))\n",
    "\n",
    "# Summary\n",
    "print(\"\\n🎯 [Bot] Here's a summary of your responses:\")\n",
    "for i, (q, a) in enumerate(history, 1):\n",
    "    print(f\"Q{i}: {a}\")\n",
    "\n",
    "\n",
    "prompt3 = ChatPromptTemplate.from_messages([\n",
    "    (\"system\",\"Recommend a career for the user based on the responses they gave\"),\n",
    "    (\"user\",\"these were the responses given by user {history} for the questions {ques1} {ques2} {ques3}\")\n",
    "])\n",
    "\n",
    "chain3 = prompt3 | llm | parser\n",
    "\n",
    "result = chain3.invoke({\"history\":history,\n",
    "                       \"ques1\":ques1,\n",
    "                       \"ques2\":ques2,\n",
    "                       \"ques3\":ques3})\n",
    "print(result)"
   ]
  },
  {
   "cell_type": "markdown",
   "id": "92b6df70",
   "metadata": {},
   "source": [
    "Working and understanding of RunnableAssign"
   ]
  },
  {
   "cell_type": "code",
   "execution_count": null,
   "id": "c01eabe0",
   "metadata": {},
   "outputs": [],
   "source": [
    "## Automatic mapping by runnableAssign \n",
    "\n",
    "from langchain_core.runnables.passthrough import RunnableAssign\n",
    "\n",
    "\n",
    "prompting = ChatPromptTemplate.from_template(\"Greet the user {name}\")\n",
    "result_chain = {'name' : lambda _: input('input')}| prompting|llm|StrOutputParser()\n",
    "result_chain.invoke({})"
   ]
  },
  {
   "cell_type": "code",
   "execution_count": null,
   "id": "7f245ffe",
   "metadata": {},
   "outputs": [],
   "source": [
    "## Manual Mapping for clearner code \n",
    "from langchain_core.runnables.passthrough import RunnableAssign\n",
    "\n",
    "assign = RunnableAssign({'name' : lambda _: input('input')})\n",
    "prompting = ChatPromptTemplate.from_template(\"Greet the user {name}\")\n",
    "result_chain = assign | prompting|llm|StrOutputParser()\n",
    "# Assigning the input to the name variable\n",
    "result_chain.invoke({})"
   ]
  }
 ],
 "metadata": {
  "language_info": {
   "name": "python"
  }
 },
 "nbformat": 4,
 "nbformat_minor": 5
}
